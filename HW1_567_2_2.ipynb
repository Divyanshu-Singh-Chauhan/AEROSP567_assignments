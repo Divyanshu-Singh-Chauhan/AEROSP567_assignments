{
  "nbformat": 4,
  "nbformat_minor": 0,
  "metadata": {
    "colab": {
      "provenance": []
    },
    "kernelspec": {
      "name": "python3",
      "display_name": "Python 3"
    },
    "language_info": {
      "name": "python"
    }
  },
  "cells": [
    {
      "cell_type": "markdown",
      "source": [
        "# Answer 2.2.1"
      ],
      "metadata": {
        "id": "FQHpM2o0tUWF"
      }
    },
    {
      "cell_type": "code",
      "execution_count": 12,
      "metadata": {
        "colab": {
          "base_uri": "https://localhost:8080/",
          "height": 472
        },
        "id": "uD73-eF_qNgI",
        "outputId": "1287b1b0-9cab-4d61-9532-ff483f4ea7c0"
      },
      "outputs": [
        {
          "output_type": "display_data",
          "data": {
            "text/plain": [
              "<Figure size 640x480 with 1 Axes>"
            ],
            "image/png": "[encoded data removed]"
          },
          "metadata": {}
        }
      ],
      "source": [
        "import numpy as np\n",
        "import matplotlib.pyplot as plt\n",
        "\n",
        "# Parameters\n",
        "N = 100  # Number of steps\n",
        "n_trials = 100000  # Number of Monte Carlo trials\n",
        "\n",
        "# Simulating 3D random walk\n",
        "def random_3d_walk(N):\n",
        "    \"\"\"Args: N = Number of steps\n",
        "       Returns: distance = Euclidean distance\n",
        "    \"\"\"\n",
        "\n",
        "    # Generating a single sequence of N steps in 3 dimensions sampled from N(0, 1)\n",
        "    steps = np.random.normal(0, 1, (N, 3))\n",
        "\n",
        "    # Since the directions are independent with each other, we sum the all the columns to get a single [x,y,z] array.\n",
        "    S = np.sum(steps, axis=0)\n",
        "\n",
        "    # Calculating the magnitude of the S (Euclidean distance)\n",
        "    distance = np.linalg.norm(S)\n",
        "    return distance\n",
        "\n",
        "# Example simulation of n_trials random walk\n",
        "distances = [random_3d_walk(N) for _ in range(n_trials)]\n",
        "plt.hist(distances, bins=50, density=True)\n",
        "plt.title(f\"Distribution of distances after {N}-step 3D random walk\")\n",
        "plt.xlabel(\"Distance\")\n",
        "plt.ylabel(\"Frequency\")\n",
        "plt.show()"
      ]
    },
    {
      "cell_type": "markdown",
      "source": [
        "# Answer 2.2.2"
      ],
      "metadata": {
        "id": "MvK3HdQ8utwq"
      }
    },
    {
      "cell_type": "code",
      "source": [
        "# Monte Carlo method to compute the probability P(S>10).\n",
        "\n",
        "def monte_carlo_probability(N, L, trials):\n",
        "    distances = [random_3d_walk(N) for _ in range(n_trials)]\n",
        "    probability = sum(1 for distance in distances if distance > 10) / n_trials\n",
        "    return probability\n",
        "\n",
        "# Parameters\n",
        "L = 10\n",
        "trials = 100000\n",
        "\n",
        "# Estimate the probability\n",
        "probability = monte_carlo_probability(N, L, trials)\n",
        "probability\n"
      ],
      "metadata": {
        "id": "PfDDc55XOcPM",
        "outputId": "376febf1-a66d-456b-cc5e-0d1c3b760168",
        "colab": {
          "base_uri": "https://localhost:8080/"
        }
      },
      "execution_count": 16,
      "outputs": [
        {
          "output_type": "execute_result",
          "data": {
            "text/plain": [
              "0.79939"
            ]
          },
          "metadata": {},
          "execution_count": 16
        }
      ]
    },
    {
      "cell_type": "markdown",
      "source": [
        "# Answer 2.2.3"
      ],
      "metadata": {
        "id": "96g5Zt2DuxyT"
      }
    },
    {
      "cell_type": "code",
      "source": [
        "def importance_sampling_probability(N, L, trials, scaling_factor):\n",
        "    count = 0\n",
        "    weights = []\n",
        "    for _ in range(trials):\n",
        "        # Simulate steps with increased variance to make larger distances more likely\n",
        "        steps = np.random.normal(0, scaling_factor, (N, 3))\n",
        "        position = np.sum(steps, axis=0)\n",
        "        distance = np.linalg.norm(position)\n",
        "        if distance > L:\n",
        "            # Calculate the weight for importance sampling\n",
        "            weight = np.exp(-(np.sum(position**2) / (2 * scaling_factor**2 - 2)))\n",
        "            weights.append(weight)\n",
        "            count += 1\n",
        "    # Compute the weighted probability\n",
        "    weighted_prob = np.sum(weights) / trials\n",
        "    return weighted_prob\n",
        "\n",
        "# Parameters\n",
        "N = 100\n",
        "L = 55\n",
        "trials = 100000\n",
        "scaling_factor = 2  # Adjust this as needed; typically chosen based on experimentation\n",
        "\n",
        "# Estimate the probability using importance sampling\n",
        "importance_prob = importance_sampling_probability(N, L, trials, scaling_factor)\n",
        "\n",
        "print(\"Estimated probability P(S_N > 55) = {:5E}\".format(importance_prob))\n"
      ],
      "metadata": {
        "id": "K8nXHPcPBqOO",
        "outputId": "cd57cfce-ac8e-4bd9-cc5c-e45182c0203d",
        "colab": {
          "base_uri": "https://localhost:8080/"
        }
      },
      "execution_count": 26,
      "outputs": [
        {
          "output_type": "stream",
          "name": "stdout",
          "text": [
            "Estimated probability P(S_N > 55) = 4.176665E-223\n"
          ]
        }
      ]
    },
    {
      "cell_type": "markdown",
      "source": [
        "# Answer 2.2.4"
      ],
      "metadata": {
        "id": "A68GX7p_uZ7D"
      }
    },
    {
      "cell_type": "code",
      "source": [
        "N = 100\n",
        "trials = 100000\n",
        "\n",
        "def monte_carlo_error(N, L, trials, method=\"monte_carlo\", scaling_factor=1):\n",
        "    probabilities = []\n",
        "    for _ in range(100):  # 100 repetitions for error estimation\n",
        "        if method == \"monte_carlo\":\n",
        "            probabilities.append(monte_carlo_probability(N, 10, trials // 100))\n",
        "        elif method == \"importance_sampling\":\n",
        "            probabilities.append(importance_sampling_probability(N, L, trials // 100, scaling_factor))\n",
        "    standard_error = np.std(probabilities) / np.sqrt(100)\n",
        "    return standard_error\n",
        "\n",
        "# Estimate standard error for regular Monte Carlo\n",
        "standard_error_mc = monte_carlo_error(N, 10, trials, method=\"monte_carlo\")\n",
        "print(\"Monte Carlo Standard Error for P(S>10) is {:5E}\".format(standard_error_mc))\n",
        "\n",
        "# Estimate standard error for importance sampling\n",
        "standard_error_is = monte_carlo_error(N, 55, trials, method=\"importance_sampling\", scaling_factor=2)\n",
        "print(\"Importance Sampling Standard Error for P(S>55;c=2) is {:5E}\".format(standard_error_is))\n",
        "\n",
        "standard_error_is = monte_carlo_error(N, 55, trials, method=\"importance_sampling\", scaling_factor=3)\n",
        "print(\"Importance Sampling Standard Error for P(S>55;c=3) is {:5E}\".format(standard_error_is))\n",
        "\n",
        "standard_error_is = monte_carlo_error(N, 55, trials, method=\"importance_sampling\", scaling_factor=4)\n",
        "print(\"Importance Sampling Standard Error for P(S>55;c=4) is {:5E}\".format(standard_error_is))"
      ],
      "metadata": {
        "colab": {
          "base_uri": "https://localhost:8080/"
        },
        "id": "R82aZ9Sf1On-",
        "outputId": "43ec796f-e8b7-4a9f-a23e-1cb613b7ff66"
      },
      "execution_count": 20,
      "outputs": [
        {
          "output_type": "stream",
          "name": "stdout",
          "text": [
            "Monte Carlo Standard Error for P(S>10) is 1.170995E-04\n",
            "Importance Sampling Standard Error for P(S>55) is 0.000000E+00\n"
          ]
        }
      ]
    },
    {
      "cell_type": "code",
      "source": [],
      "metadata": {
        "id": "3mLXNdktu-4F"
      },
      "execution_count": null,
      "outputs": []
    }
  ]
}